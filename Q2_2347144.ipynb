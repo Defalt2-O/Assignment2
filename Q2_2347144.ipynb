{
 "cells": [
  {
   "cell_type": "code",
   "execution_count": 20,
   "metadata": {},
   "outputs": [
    {
     "name": "stdout",
     "output_type": "stream",
     "text": [
      "2 is not divisible by 3\n",
      "3 is divisible by 3.\n",
      "3 is divisible by 3.\n",
      "4 is not divisible by 3\n",
      "5 is not divisible by 3\n",
      "5 is not divisible by 3\n",
      "6 is divisible by 3.\n",
      "7 is not divisible by 3\n",
      "7 is not divisible by 3\n",
      "8 is not divisible by 3\n",
      "9 is divisible by 3.\n",
      "10 is not divisible by 3\n"
     ]
    }
   ],
   "source": [
    "# Is the given list divisible by 3 or NOT?\n",
    "list1 = [2, 3, 3, 4, 5, 5, 6, 7, 7, 8, 9, 10]\n",
    "for x in list1:\n",
    "    if x % 3 == 0:\n",
    "        print(f\"{x} is divisible by 3.\")\n",
    "    else:\n",
    "        print(f\"{x} is not divisible by 3\")\n"
   ]
  },
  {
   "cell_type": "code",
   "execution_count": 21,
   "metadata": {},
   "outputs": [
    {
     "name": "stdout",
     "output_type": "stream",
     "text": [
      "Square of 2 is 4\n",
      "Square of 4 is 16\n",
      "Square of 6 is 36\n",
      "Square of 8 is 64\n",
      "Square of 10 is 100\n"
     ]
    }
   ],
   "source": [
    "# Square of even numbers in a list\n",
    "for x in list1:\n",
    "    if x % 2 == 0:\n",
    "        print(f\"Square of {x} is {x*x}\")"
   ]
  },
  {
   "cell_type": "code",
   "execution_count": 22,
   "metadata": {},
   "outputs": [
    {
     "name": "stdout",
     "output_type": "stream",
     "text": [
      "Sum of all even digits in the list is 30\n"
     ]
    }
   ],
   "source": [
    "# Sum of digits of all EVEN numbers in a list\n",
    "y = 0\n",
    "for x in list1:\n",
    "    if x % 2 == 0:\n",
    "        y += x\n",
    "print(f\"Sum of all even digits in the list is {y}\")"
   ]
  },
  {
   "cell_type": "code",
   "execution_count": 23,
   "metadata": {},
   "outputs": [
    {
     "name": "stdout",
     "output_type": "stream",
     "text": [
      "[2, 3, 4, 5, 6, 7, 8, 9, 10]\n"
     ]
    }
   ],
   "source": [
    "# Remove duplicate numbers in a list\n",
    "list2 = []\n",
    "for x in list1:\n",
    "    if x not in list2:\n",
    "        list2.append(x)\n",
    "print(list2)"
   ]
  },
  {
   "cell_type": "code",
   "execution_count": 24,
   "metadata": {},
   "outputs": [
    {
     "name": "stdout",
     "output_type": "stream",
     "text": [
      "The birthday of Travis is 8 October 1987\n"
     ]
    }
   ],
   "source": [
    "# Write a function birthDate() that takes the full name of your employees(as a string) and\n",
    "# displays the given employee’s birthdate.\n",
    "d = {\n",
    "    \"Travis\": \"8 October 1987\",\n",
    "    \"Scott\": \"22 August 1997\",\n",
    "    \"Noah\": \"9 April 2000\",\n",
    "    \"Oliver\": \"15 March 1989\",\n",
    "    \"Benjamin\": \"27 November 1985\"\n",
    "}\n",
    "def birthDate(name):\n",
    "    y = d[name]\n",
    "    return y\n",
    "\n",
    "s = input(\"Enter a name \\n\")\n",
    "print(f\"The birthday of {s} is {birthDate(s)}\")"
   ]
  }
 ],
 "metadata": {
  "kernelspec": {
   "display_name": "Python 3",
   "language": "python",
   "name": "python3"
  },
  "language_info": {
   "codemirror_mode": {
    "name": "ipython",
    "version": 3
   },
   "file_extension": ".py",
   "mimetype": "text/x-python",
   "name": "python",
   "nbconvert_exporter": "python",
   "pygments_lexer": "ipython3",
   "version": "3.11.1"
  },
  "orig_nbformat": 4
 },
 "nbformat": 4,
 "nbformat_minor": 2
}
